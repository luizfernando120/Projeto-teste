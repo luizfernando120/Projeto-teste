{
  "nbformat": 4,
  "nbformat_minor": 0,
  "metadata": {
    "colab": {
      "provenance": [],
      "include_colab_link": true
    },
    "kernelspec": {
      "name": "python3",
      "display_name": "Python 3"
    },
    "language_info": {
      "name": "python"
    }
  },
  "cells": [
    {
      "cell_type": "markdown",
      "metadata": {
        "id": "view-in-github",
        "colab_type": "text"
      },
      "source": [
        "<a href=\"https://colab.research.google.com/github/luizfernando120/Projeto-teste/blob/main/C%C3%B3pia_de_Projeto_07_Abril.ipynb\" target=\"_parent\"><img src=\"https://colab.research.google.com/assets/colab-badge.svg\" alt=\"Open In Colab\"/></a>"
      ]
    },
    {
      "cell_type": "markdown",
      "source": [
        "#Bibliotecas\n"
      ],
      "metadata": {
        "id": "P06ajokpkxot"
      }
    },
    {
      "cell_type": "code",
      "execution_count": 166,
      "metadata": {
        "id": "T0X0pXyZqRgo"
      },
      "outputs": [],
      "source": [
        "import numpy as np\n",
        "import pandas as pd\n",
        "import matplotlib.pyplot as plt"
      ]
    },
    {
      "cell_type": "markdown",
      "source": [
        "## **Numpy**\n",
        "### numpy é uma biblioteca Python que fornece um objeto de matriz multidimensional,vários objetos derivados (como matrizes e matrizes mascaradas) e uma variedadede rotinas para operações rápidas em matrizes. (**CAPARROZ**, 2023)\n",
        "## **Pandas**\n",
        "### pandas é uma biblioteca de software livre para a linguagem de programação,Python, utilizada principalmente para manipulação e análise de dados;Ele fornece uma estrutura de dados flexível e de alto desempenho, chamada DataFrame, que é capaz de lidar com grandes conjuntos de dados e realizar operações comuns de análise de dados, como limpeza, filtragem, agrupamento, agregação, transformação e visualização. (**CAPARROZ**, 2023)\n",
        "## **Ploty Express**\n",
        "### ploty é uma biblioteca de visualização de dados para Python, Javascript e R. Eles tem uma série de produtos, desde para criação de dashboards até clientes SQL. Plotly permite que você utilize seus gráficos em aplicações e, claro, Jupyter Notebooks. (**VASCONCELLOS**, 2018)\n"
      ],
      "metadata": {
        "id": "AvEY2Ko6kTny"
      }
    },
    {
      "cell_type": "markdown",
      "source": [
        "#Importação dos dados"
      ],
      "metadata": {
        "id": "t07B5oUImbhM"
      }
    },
    {
      "cell_type": "code",
      "source": [
        "df = pd.read_csv ('https://raw.githubusercontent.com/luizfernando120/Projeto_Governanca_TI_2023/main/obitos_publico.csv', sep = ';')"
      ],
      "metadata": {
        "id": "XQoQBE-80mTc"
      },
      "execution_count": 3,
      "outputs": []
    },
    {
      "cell_type": "markdown",
      "source": [
        "# Dados referentes aos acidentes fatais de trânsito no estado de São Paulo"
      ],
      "metadata": {
        "id": "TPixnzGKnaxB"
      }
    },
    {
      "cell_type": "code",
      "source": [
        "df"
      ],
      "metadata": {
        "colab": {
          "base_uri": "https://localhost:8080/",
          "height": 423
        },
        "id": "zJBLG4TB05BH",
        "outputId": "ff1034a4-2351-417e-cf60-6a15d7dc6a33"
      },
      "execution_count": 4,
      "outputs": [
        {
          "output_type": "execute_result",
          "data": {
            "text/plain": [
              "       Ano do BO (RDO) Data do Acidente Tipo do veiculo da vitima  \\\n",
              "0                 2023       28/02/2023               MOTOCICLETA   \n",
              "1                 2023       28/02/2023               MOTOCICLETA   \n",
              "2                 2023       28/02/2023                  PEDESTRE   \n",
              "3                 2023       28/02/2023            NAO DISPONIVEL   \n",
              "4                 2023       05/02/2023                  CAMINHAO   \n",
              "...                ...              ...                       ...   \n",
              "42826             2014       27/07/2014                 AUTOMOVEL   \n",
              "42827             2015       01/01/2015                 BICICLETA   \n",
              "42828             2015       01/01/2015                 BICICLETA   \n",
              "42829             2015       01/01/2015                  PEDESTRE   \n",
              "42830             2015       01/01/2015               MOTOCICLETA   \n",
              "\n",
              "       Tipo de vitima Tipo de acidente       Sexo  Idade da vitima  \n",
              "0            CONDUTOR   NAO DISPONIVEL  MASCULINO               21  \n",
              "1            CONDUTOR          COLISAO  MASCULINO               55  \n",
              "2            PEDESTRE    ATROPELAMENTO   FEMININO               89  \n",
              "3      NAO DISPONIVEL    ATROPELAMENTO   FEMININO               78  \n",
              "4      NAO DISPONIVEL          COLISAO  MASCULINO               35  \n",
              "...               ...              ...        ...              ...  \n",
              "42826      PASSAGEIRO          COLISAO   FEMININO               42  \n",
              "42827        CONDUTOR          COLISAO  MASCULINO               42  \n",
              "42828        CONDUTOR           CHOQUE  MASCULINO               44  \n",
              "42829        PEDESTRE    ATROPELAMENTO  MASCULINO               66  \n",
              "42830        CONDUTOR           OUTROS  MASCULINO               27  \n",
              "\n",
              "[42831 rows x 7 columns]"
            ],
            "text/html": [
              "\n",
              "  <div id=\"df-b5c549c4-8464-4f80-aa1a-c90e976dfb5a\">\n",
              "    <div class=\"colab-df-container\">\n",
              "      <div>\n",
              "<style scoped>\n",
              "    .dataframe tbody tr th:only-of-type {\n",
              "        vertical-align: middle;\n",
              "    }\n",
              "\n",
              "    .dataframe tbody tr th {\n",
              "        vertical-align: top;\n",
              "    }\n",
              "\n",
              "    .dataframe thead th {\n",
              "        text-align: right;\n",
              "    }\n",
              "</style>\n",
              "<table border=\"1\" class=\"dataframe\">\n",
              "  <thead>\n",
              "    <tr style=\"text-align: right;\">\n",
              "      <th></th>\n",
              "      <th>Ano do BO (RDO)</th>\n",
              "      <th>Data do Acidente</th>\n",
              "      <th>Tipo do veiculo da vitima</th>\n",
              "      <th>Tipo de vitima</th>\n",
              "      <th>Tipo de acidente</th>\n",
              "      <th>Sexo</th>\n",
              "      <th>Idade da vitima</th>\n",
              "    </tr>\n",
              "  </thead>\n",
              "  <tbody>\n",
              "    <tr>\n",
              "      <th>0</th>\n",
              "      <td>2023</td>\n",
              "      <td>28/02/2023</td>\n",
              "      <td>MOTOCICLETA</td>\n",
              "      <td>CONDUTOR</td>\n",
              "      <td>NAO DISPONIVEL</td>\n",
              "      <td>MASCULINO</td>\n",
              "      <td>21</td>\n",
              "    </tr>\n",
              "    <tr>\n",
              "      <th>1</th>\n",
              "      <td>2023</td>\n",
              "      <td>28/02/2023</td>\n",
              "      <td>MOTOCICLETA</td>\n",
              "      <td>CONDUTOR</td>\n",
              "      <td>COLISAO</td>\n",
              "      <td>MASCULINO</td>\n",
              "      <td>55</td>\n",
              "    </tr>\n",
              "    <tr>\n",
              "      <th>2</th>\n",
              "      <td>2023</td>\n",
              "      <td>28/02/2023</td>\n",
              "      <td>PEDESTRE</td>\n",
              "      <td>PEDESTRE</td>\n",
              "      <td>ATROPELAMENTO</td>\n",
              "      <td>FEMININO</td>\n",
              "      <td>89</td>\n",
              "    </tr>\n",
              "    <tr>\n",
              "      <th>3</th>\n",
              "      <td>2023</td>\n",
              "      <td>28/02/2023</td>\n",
              "      <td>NAO DISPONIVEL</td>\n",
              "      <td>NAO DISPONIVEL</td>\n",
              "      <td>ATROPELAMENTO</td>\n",
              "      <td>FEMININO</td>\n",
              "      <td>78</td>\n",
              "    </tr>\n",
              "    <tr>\n",
              "      <th>4</th>\n",
              "      <td>2023</td>\n",
              "      <td>05/02/2023</td>\n",
              "      <td>CAMINHAO</td>\n",
              "      <td>NAO DISPONIVEL</td>\n",
              "      <td>COLISAO</td>\n",
              "      <td>MASCULINO</td>\n",
              "      <td>35</td>\n",
              "    </tr>\n",
              "    <tr>\n",
              "      <th>...</th>\n",
              "      <td>...</td>\n",
              "      <td>...</td>\n",
              "      <td>...</td>\n",
              "      <td>...</td>\n",
              "      <td>...</td>\n",
              "      <td>...</td>\n",
              "      <td>...</td>\n",
              "    </tr>\n",
              "    <tr>\n",
              "      <th>42826</th>\n",
              "      <td>2014</td>\n",
              "      <td>27/07/2014</td>\n",
              "      <td>AUTOMOVEL</td>\n",
              "      <td>PASSAGEIRO</td>\n",
              "      <td>COLISAO</td>\n",
              "      <td>FEMININO</td>\n",
              "      <td>42</td>\n",
              "    </tr>\n",
              "    <tr>\n",
              "      <th>42827</th>\n",
              "      <td>2015</td>\n",
              "      <td>01/01/2015</td>\n",
              "      <td>BICICLETA</td>\n",
              "      <td>CONDUTOR</td>\n",
              "      <td>COLISAO</td>\n",
              "      <td>MASCULINO</td>\n",
              "      <td>42</td>\n",
              "    </tr>\n",
              "    <tr>\n",
              "      <th>42828</th>\n",
              "      <td>2015</td>\n",
              "      <td>01/01/2015</td>\n",
              "      <td>BICICLETA</td>\n",
              "      <td>CONDUTOR</td>\n",
              "      <td>CHOQUE</td>\n",
              "      <td>MASCULINO</td>\n",
              "      <td>44</td>\n",
              "    </tr>\n",
              "    <tr>\n",
              "      <th>42829</th>\n",
              "      <td>2015</td>\n",
              "      <td>01/01/2015</td>\n",
              "      <td>PEDESTRE</td>\n",
              "      <td>PEDESTRE</td>\n",
              "      <td>ATROPELAMENTO</td>\n",
              "      <td>MASCULINO</td>\n",
              "      <td>66</td>\n",
              "    </tr>\n",
              "    <tr>\n",
              "      <th>42830</th>\n",
              "      <td>2015</td>\n",
              "      <td>01/01/2015</td>\n",
              "      <td>MOTOCICLETA</td>\n",
              "      <td>CONDUTOR</td>\n",
              "      <td>OUTROS</td>\n",
              "      <td>MASCULINO</td>\n",
              "      <td>27</td>\n",
              "    </tr>\n",
              "  </tbody>\n",
              "</table>\n",
              "<p>42831 rows × 7 columns</p>\n",
              "</div>\n",
              "      <button class=\"colab-df-convert\" onclick=\"convertToInteractive('df-b5c549c4-8464-4f80-aa1a-c90e976dfb5a')\"\n",
              "              title=\"Convert this dataframe to an interactive table.\"\n",
              "              style=\"display:none;\">\n",
              "        \n",
              "  <svg xmlns=\"http://www.w3.org/2000/svg\" height=\"24px\"viewBox=\"0 0 24 24\"\n",
              "       width=\"24px\">\n",
              "    <path d=\"M0 0h24v24H0V0z\" fill=\"none\"/>\n",
              "    <path d=\"M18.56 5.44l.94 2.06.94-2.06 2.06-.94-2.06-.94-.94-2.06-.94 2.06-2.06.94zm-11 1L8.5 8.5l.94-2.06 2.06-.94-2.06-.94L8.5 2.5l-.94 2.06-2.06.94zm10 10l.94 2.06.94-2.06 2.06-.94-2.06-.94-.94-2.06-.94 2.06-2.06.94z\"/><path d=\"M17.41 7.96l-1.37-1.37c-.4-.4-.92-.59-1.43-.59-.52 0-1.04.2-1.43.59L10.3 9.45l-7.72 7.72c-.78.78-.78 2.05 0 2.83L4 21.41c.39.39.9.59 1.41.59.51 0 1.02-.2 1.41-.59l7.78-7.78 2.81-2.81c.8-.78.8-2.07 0-2.86zM5.41 20L4 18.59l7.72-7.72 1.47 1.35L5.41 20z\"/>\n",
              "  </svg>\n",
              "      </button>\n",
              "      \n",
              "  <style>\n",
              "    .colab-df-container {\n",
              "      display:flex;\n",
              "      flex-wrap:wrap;\n",
              "      gap: 12px;\n",
              "    }\n",
              "\n",
              "    .colab-df-convert {\n",
              "      background-color: #E8F0FE;\n",
              "      border: none;\n",
              "      border-radius: 50%;\n",
              "      cursor: pointer;\n",
              "      display: none;\n",
              "      fill: #1967D2;\n",
              "      height: 32px;\n",
              "      padding: 0 0 0 0;\n",
              "      width: 32px;\n",
              "    }\n",
              "\n",
              "    .colab-df-convert:hover {\n",
              "      background-color: #E2EBFA;\n",
              "      box-shadow: 0px 1px 2px rgba(60, 64, 67, 0.3), 0px 1px 3px 1px rgba(60, 64, 67, 0.15);\n",
              "      fill: #174EA6;\n",
              "    }\n",
              "\n",
              "    [theme=dark] .colab-df-convert {\n",
              "      background-color: #3B4455;\n",
              "      fill: #D2E3FC;\n",
              "    }\n",
              "\n",
              "    [theme=dark] .colab-df-convert:hover {\n",
              "      background-color: #434B5C;\n",
              "      box-shadow: 0px 1px 3px 1px rgba(0, 0, 0, 0.15);\n",
              "      filter: drop-shadow(0px 1px 2px rgba(0, 0, 0, 0.3));\n",
              "      fill: #FFFFFF;\n",
              "    }\n",
              "  </style>\n",
              "\n",
              "      <script>\n",
              "        const buttonEl =\n",
              "          document.querySelector('#df-b5c549c4-8464-4f80-aa1a-c90e976dfb5a button.colab-df-convert');\n",
              "        buttonEl.style.display =\n",
              "          google.colab.kernel.accessAllowed ? 'block' : 'none';\n",
              "\n",
              "        async function convertToInteractive(key) {\n",
              "          const element = document.querySelector('#df-b5c549c4-8464-4f80-aa1a-c90e976dfb5a');\n",
              "          const dataTable =\n",
              "            await google.colab.kernel.invokeFunction('convertToInteractive',\n",
              "                                                     [key], {});\n",
              "          if (!dataTable) return;\n",
              "\n",
              "          const docLinkHtml = 'Like what you see? Visit the ' +\n",
              "            '<a target=\"_blank\" href=https://colab.research.google.com/notebooks/data_table.ipynb>data table notebook</a>'\n",
              "            + ' to learn more about interactive tables.';\n",
              "          element.innerHTML = '';\n",
              "          dataTable['output_type'] = 'display_data';\n",
              "          await google.colab.output.renderOutput(dataTable, element);\n",
              "          const docLink = document.createElement('div');\n",
              "          docLink.innerHTML = docLinkHtml;\n",
              "          element.appendChild(docLink);\n",
              "        }\n",
              "      </script>\n",
              "    </div>\n",
              "  </div>\n",
              "  "
            ]
          },
          "metadata": {},
          "execution_count": 4
        }
      ]
    },
    {
      "cell_type": "markdown",
      "source": [
        "#Ocorrências agrupadas por sexo"
      ],
      "metadata": {
        "id": "bgWv4tHXoRzP"
      }
    },
    {
      "cell_type": "code",
      "source": [
        "quantidade_tipos_sexo = df['Sexo'].value_counts()"
      ],
      "metadata": {
        "id": "S824nXS4vw2Q"
      },
      "execution_count": 5,
      "outputs": []
    },
    {
      "cell_type": "code",
      "source": [
        "quantidade_tipos_sexo"
      ],
      "metadata": {
        "colab": {
          "base_uri": "https://localhost:8080/"
        },
        "id": "Hgxg06_8vvuP",
        "outputId": "7354af41-8ea1-46b3-e81a-bdd33ab22647"
      },
      "execution_count": 6,
      "outputs": [
        {
          "output_type": "execute_result",
          "data": {
            "text/plain": [
              "MASCULINO         34801\n",
              "FEMININO           7563\n",
              "NAO DISPONIVEL      467\n",
              "Name: Sexo, dtype: int64"
            ]
          },
          "metadata": {},
          "execution_count": 6
        }
      ]
    },
    {
      "cell_type": "code",
      "source": [
        "quantidade_tipos_sexo.index"
      ],
      "metadata": {
        "colab": {
          "base_uri": "https://localhost:8080/"
        },
        "id": "5armfuyLvud0",
        "outputId": "84ef1603-edbc-4f6b-c6c2-43bbd06bebfa"
      },
      "execution_count": 7,
      "outputs": [
        {
          "output_type": "execute_result",
          "data": {
            "text/plain": [
              "Index(['MASCULINO', 'FEMININO', 'NAO DISPONIVEL'], dtype='object')"
            ]
          },
          "metadata": {},
          "execution_count": 7
        }
      ]
    },
    {
      "cell_type": "code",
      "source": [
        "quantidade_tipos_sexo.values"
      ],
      "metadata": {
        "colab": {
          "base_uri": "https://localhost:8080/"
        },
        "id": "kNR1qohIvtNx",
        "outputId": "f4657775-61e6-40f9-bec4-08c240611424"
      },
      "execution_count": 8,
      "outputs": [
        {
          "output_type": "execute_result",
          "data": {
            "text/plain": [
              "array([34801,  7563,   467])"
            ]
          },
          "metadata": {},
          "execution_count": 8
        }
      ]
    },
    {
      "cell_type": "code",
      "source": [
        "sexos = ['MASCULINO','FEMININO','NAO DISPONIVEL']\n",
        "count_sexos = [34801,7563,467]\n",
        "cores_sexo = ['green','red','gray']"
      ],
      "metadata": {
        "id": "xwkb-GTA8CMm"
      },
      "execution_count": 69,
      "outputs": []
    },
    {
      "cell_type": "code",
      "source": [
        "plt.style.use(\"ggplot\")\n",
        "grafico_sexos = plt.bar(sexos,count_sexos, align ='center', color = cores_sexo)\n",
        "plt.title('Ocorrências agrupadas por Sexo')\n",
        "plt.show(grafico_sexos)"
      ],
      "metadata": {
        "colab": {
          "base_uri": "https://localhost:8080/",
          "height": 454
        },
        "id": "PQPl5312ttA8",
        "outputId": "8b44b0d4-3d8f-49aa-c9ea-f48ab68dbbaf"
      },
      "execution_count": 135,
      "outputs": [
        {
          "output_type": "display_data",
          "data": {
            "text/plain": [
              "<Figure size 640x480 with 1 Axes>"
            ],
            "image/png": "[encoded data removed]"
          },
          "metadata": {}
        }
      ]
    },
    {
      "cell_type": "markdown",
      "source": [
        "Com base nas informações fornecidas, podemos concluir preliminarmente que os acidentes de trânsito são mais frequentes entre os indivíduos do sexo masculino sendo **34.801**, enquanto o gênero feminino apresenta uma proporção menor de **7.563** ocorrências. É importante ressaltar que essa análise é baseada apenas nos dados fornecidos e não leva em consideração outros fatores que podem influenciar os acidentes de trânsito.\n",
        "Já não se verificou o número de **467** dos acidentes fatais, por ausência de informações, privacidade, falta de perguntas."
      ],
      "metadata": {
        "id": "uG7wu-DQEnz9"
      }
    },
    {
      "cell_type": "code",
      "source": [
        "plt.style.use(\"ggplot\")\n",
        "pizza_sexos = plt.pie(count_sexos, labels=sexos, colors = cores_sexo, autopct = '%1.1f%%')\n",
        "plt.title('Ocorrências agrupadas por Sexo')\n",
        "plt.legend(['MASCULINO','FEMININO','NAO DISPONIVEL'],loc = 'upper right')\n",
        "plt.axis('equal')\n",
        "plt.show(pizza_sexos)"
      ],
      "metadata": {
        "colab": {
          "base_uri": "https://localhost:8080/",
          "height": 448
        },
        "id": "PI8h4_DEvrbv",
        "outputId": "dc914826-f4cd-4c73-924e-aeed28e64658"
      },
      "execution_count": 162,
      "outputs": [
        {
          "output_type": "execute_result",
          "data": {
            "text/plain": [
              "<function matplotlib.pyplot.show(close=None, block=None)>"
            ]
          },
          "metadata": {},
          "execution_count": 162
        },
        {
          "output_type": "display_data",
          "data": {
            "text/plain": [
              "<Figure size 640x480 with 1 Axes>"
            ],
            "image/png": "[encoded data removed]"
          },
          "metadata": {}
        }
      ]
    },
    {
      "cell_type": "markdown",
      "source": [
        "Com base no gráfico acima, podemos observar que o sexo *Masculino* está mais presente dentre os acidentes fatais, representando cerca de *81,3%* dos acidentes enquanto o sexo *Feminino* representa cerca de *17,7%*.\n",
        "\n",
        "**Esta figura é apenas uma forma diferente de ilustrar os dados fornecidos no gráfico quantitativo dessas informações.**"
      ],
      "metadata": {
        "id": "0-ADLFzsFMSa"
      }
    },
    {
      "cell_type": "markdown",
      "source": [
        "#MEDIA"
      ],
      "metadata": {
        "id": "GAjnABgwefMP"
      }
    },
    {
      "cell_type": "code",
      "source": [
        "df_agrupado_pelo_sexo_media = df.groupby('Sexo').agg({ 'Idade da vitima': np.mean }).reset_index()"
      ],
      "metadata": {
        "id": "2XMw1NfiwK1s"
      },
      "execution_count": null,
      "outputs": []
    },
    {
      "cell_type": "code",
      "source": [
        "df_agrupado_pelo_sexo_media"
      ],
      "metadata": {
        "colab": {
          "base_uri": "https://localhost:8080/",
          "height": 144
        },
        "id": "_STKJ_r0wIVp",
        "outputId": "4846acf7-8f9a-4efb-e0a3-19491c11cf38"
      },
      "execution_count": null,
      "outputs": [
        {
          "output_type": "execute_result",
          "data": {
            "text/plain": [
              "             Sexo  Idade da vitima\n",
              "0        FEMININO        43.937062\n",
              "1       MASCULINO        40.742795\n",
              "2  NAO DISPONIVEL        40.278373"
            ],
            "text/html": [
              "\n",
              "  <div id=\"df-8154dee3-8bb9-455f-bab1-c3a490c07f76\">\n",
              "    <div class=\"colab-df-container\">\n",
              "      <div>\n",
              "<style scoped>\n",
              "    .dataframe tbody tr th:only-of-type {\n",
              "        vertical-align: middle;\n",
              "    }\n",
              "\n",
              "    .dataframe tbody tr th {\n",
              "        vertical-align: top;\n",
              "    }\n",
              "\n",
              "    .dataframe thead th {\n",
              "        text-align: right;\n",
              "    }\n",
              "</style>\n",
              "<table border=\"1\" class=\"dataframe\">\n",
              "  <thead>\n",
              "    <tr style=\"text-align: right;\">\n",
              "      <th></th>\n",
              "      <th>Sexo</th>\n",
              "      <th>Idade da vitima</th>\n",
              "    </tr>\n",
              "  </thead>\n",
              "  <tbody>\n",
              "    <tr>\n",
              "      <th>0</th>\n",
              "      <td>FEMININO</td>\n",
              "      <td>43.937062</td>\n",
              "    </tr>\n",
              "    <tr>\n",
              "      <th>1</th>\n",
              "      <td>MASCULINO</td>\n",
              "      <td>40.742795</td>\n",
              "    </tr>\n",
              "    <tr>\n",
              "      <th>2</th>\n",
              "      <td>NAO DISPONIVEL</td>\n",
              "      <td>40.278373</td>\n",
              "    </tr>\n",
              "  </tbody>\n",
              "</table>\n",
              "</div>\n",
              "      <button class=\"colab-df-convert\" onclick=\"convertToInteractive('df-8154dee3-8bb9-455f-bab1-c3a490c07f76')\"\n",
              "              title=\"Convert this dataframe to an interactive table.\"\n",
              "              style=\"display:none;\">\n",
              "        \n",
              "  <svg xmlns=\"http://www.w3.org/2000/svg\" height=\"24px\"viewBox=\"0 0 24 24\"\n",
              "       width=\"24px\">\n",
              "    <path d=\"M0 0h24v24H0V0z\" fill=\"none\"/>\n",
              "    <path d=\"M18.56 5.44l.94 2.06.94-2.06 2.06-.94-2.06-.94-.94-2.06-.94 2.06-2.06.94zm-11 1L8.5 8.5l.94-2.06 2.06-.94-2.06-.94L8.5 2.5l-.94 2.06-2.06.94zm10 10l.94 2.06.94-2.06 2.06-.94-2.06-.94-.94-2.06-.94 2.06-2.06.94z\"/><path d=\"M17.41 7.96l-1.37-1.37c-.4-.4-.92-.59-1.43-.59-.52 0-1.04.2-1.43.59L10.3 9.45l-7.72 7.72c-.78.78-.78 2.05 0 2.83L4 21.41c.39.39.9.59 1.41.59.51 0 1.02-.2 1.41-.59l7.78-7.78 2.81-2.81c.8-.78.8-2.07 0-2.86zM5.41 20L4 18.59l7.72-7.72 1.47 1.35L5.41 20z\"/>\n",
              "  </svg>\n",
              "      </button>\n",
              "      \n",
              "  <style>\n",
              "    .colab-df-container {\n",
              "      display:flex;\n",
              "      flex-wrap:wrap;\n",
              "      gap: 12px;\n",
              "    }\n",
              "\n",
              "    .colab-df-convert {\n",
              "      background-color: #E8F0FE;\n",
              "      border: none;\n",
              "      border-radius: 50%;\n",
              "      cursor: pointer;\n",
              "      display: none;\n",
              "      fill: #1967D2;\n",
              "      height: 32px;\n",
              "      padding: 0 0 0 0;\n",
              "      width: 32px;\n",
              "    }\n",
              "\n",
              "    .colab-df-convert:hover {\n",
              "      background-color: #E2EBFA;\n",
              "      box-shadow: 0px 1px 2px rgba(60, 64, 67, 0.3), 0px 1px 3px 1px rgba(60, 64, 67, 0.15);\n",
              "      fill: #174EA6;\n",
              "    }\n",
              "\n",
              "    [theme=dark] .colab-df-convert {\n",
              "      background-color: #3B4455;\n",
              "      fill: #D2E3FC;\n",
              "    }\n",
              "\n",
              "    [theme=dark] .colab-df-convert:hover {\n",
              "      background-color: #434B5C;\n",
              "      box-shadow: 0px 1px 3px 1px rgba(0, 0, 0, 0.15);\n",
              "      filter: drop-shadow(0px 1px 2px rgba(0, 0, 0, 0.3));\n",
              "      fill: #FFFFFF;\n",
              "    }\n",
              "  </style>\n",
              "\n",
              "      <script>\n",
              "        const buttonEl =\n",
              "          document.querySelector('#df-8154dee3-8bb9-455f-bab1-c3a490c07f76 button.colab-df-convert');\n",
              "        buttonEl.style.display =\n",
              "          google.colab.kernel.accessAllowed ? 'block' : 'none';\n",
              "\n",
              "        async function convertToInteractive(key) {\n",
              "          const element = document.querySelector('#df-8154dee3-8bb9-455f-bab1-c3a490c07f76');\n",
              "          const dataTable =\n",
              "            await google.colab.kernel.invokeFunction('convertToInteractive',\n",
              "                                                     [key], {});\n",
              "          if (!dataTable) return;\n",
              "\n",
              "          const docLinkHtml = 'Like what you see? Visit the ' +\n",
              "            '<a target=\"_blank\" href=https://colab.research.google.com/notebooks/data_table.ipynb>data table notebook</a>'\n",
              "            + ' to learn more about interactive tables.';\n",
              "          element.innerHTML = '';\n",
              "          dataTable['output_type'] = 'display_data';\n",
              "          await google.colab.output.renderOutput(dataTable, element);\n",
              "          const docLink = document.createElement('div');\n",
              "          docLink.innerHTML = docLinkHtml;\n",
              "          element.appendChild(docLink);\n",
              "        }\n",
              "      </script>\n",
              "    </div>\n",
              "  </div>\n",
              "  "
            ]
          },
          "metadata": {},
          "execution_count": 160
        }
      ]
    },
    {
      "cell_type": "markdown",
      "source": [
        " Já no quesito, Idade podemos observar no gráfico que dentre as ocorrências, a **média** de idade entre as mulheres (43,9 anos) é a maior nos acidentes fatais no estado de São Paulo."
      ],
      "metadata": {
        "id": "DfxV6K3rpjx_"
      }
    },
    {
      "cell_type": "markdown",
      "source": [
        "#MEDIANA"
      ],
      "metadata": {
        "id": "JnWMVFoEem2j"
      }
    },
    {
      "cell_type": "code",
      "source": [
        "df_agrupado_pelo_sexo_mediana = df.groupby('Sexo').agg({ 'Idade da vitima': np.median }).reset_index()"
      ],
      "metadata": {
        "id": "Zy0wXRUyF3pw"
      },
      "execution_count": null,
      "outputs": []
    },
    {
      "cell_type": "code",
      "source": [
        "df_agrupado_pelo_sexo_mediana"
      ],
      "metadata": {
        "colab": {
          "base_uri": "https://localhost:8080/",
          "height": 144
        },
        "id": "g1Sy_2cDF5vn",
        "outputId": "c3637ea5-1ab9-466d-a2b6-47b29ff35943"
      },
      "execution_count": null,
      "outputs": [
        {
          "output_type": "execute_result",
          "data": {
            "text/plain": [
              "             Sexo  Idade da vitima\n",
              "0        FEMININO             41.0\n",
              "1       MASCULINO             38.0\n",
              "2  NAO DISPONIVEL             35.0"
            ],
            "text/html": [
              "\n",
              "  <div id=\"df-6f338508-623d-4f8c-9e81-3e5d46272695\">\n",
              "    <div class=\"colab-df-container\">\n",
              "      <div>\n",
              "<style scoped>\n",
              "    .dataframe tbody tr th:only-of-type {\n",
              "        vertical-align: middle;\n",
              "    }\n",
              "\n",
              "    .dataframe tbody tr th {\n",
              "        vertical-align: top;\n",
              "    }\n",
              "\n",
              "    .dataframe thead th {\n",
              "        text-align: right;\n",
              "    }\n",
              "</style>\n",
              "<table border=\"1\" class=\"dataframe\">\n",
              "  <thead>\n",
              "    <tr style=\"text-align: right;\">\n",
              "      <th></th>\n",
              "      <th>Sexo</th>\n",
              "      <th>Idade da vitima</th>\n",
              "    </tr>\n",
              "  </thead>\n",
              "  <tbody>\n",
              "    <tr>\n",
              "      <th>0</th>\n",
              "      <td>FEMININO</td>\n",
              "      <td>41.0</td>\n",
              "    </tr>\n",
              "    <tr>\n",
              "      <th>1</th>\n",
              "      <td>MASCULINO</td>\n",
              "      <td>38.0</td>\n",
              "    </tr>\n",
              "    <tr>\n",
              "      <th>2</th>\n",
              "      <td>NAO DISPONIVEL</td>\n",
              "      <td>35.0</td>\n",
              "    </tr>\n",
              "  </tbody>\n",
              "</table>\n",
              "</div>\n",
              "      <button class=\"colab-df-convert\" onclick=\"convertToInteractive('df-6f338508-623d-4f8c-9e81-3e5d46272695')\"\n",
              "              title=\"Convert this dataframe to an interactive table.\"\n",
              "              style=\"display:none;\">\n",
              "        \n",
              "  <svg xmlns=\"http://www.w3.org/2000/svg\" height=\"24px\"viewBox=\"0 0 24 24\"\n",
              "       width=\"24px\">\n",
              "    <path d=\"M0 0h24v24H0V0z\" fill=\"none\"/>\n",
              "    <path d=\"M18.56 5.44l.94 2.06.94-2.06 2.06-.94-2.06-.94-.94-2.06-.94 2.06-2.06.94zm-11 1L8.5 8.5l.94-2.06 2.06-.94-2.06-.94L8.5 2.5l-.94 2.06-2.06.94zm10 10l.94 2.06.94-2.06 2.06-.94-2.06-.94-.94-2.06-.94 2.06-2.06.94z\"/><path d=\"M17.41 7.96l-1.37-1.37c-.4-.4-.92-.59-1.43-.59-.52 0-1.04.2-1.43.59L10.3 9.45l-7.72 7.72c-.78.78-.78 2.05 0 2.83L4 21.41c.39.39.9.59 1.41.59.51 0 1.02-.2 1.41-.59l7.78-7.78 2.81-2.81c.8-.78.8-2.07 0-2.86zM5.41 20L4 18.59l7.72-7.72 1.47 1.35L5.41 20z\"/>\n",
              "  </svg>\n",
              "      </button>\n",
              "      \n",
              "  <style>\n",
              "    .colab-df-container {\n",
              "      display:flex;\n",
              "      flex-wrap:wrap;\n",
              "      gap: 12px;\n",
              "    }\n",
              "\n",
              "    .colab-df-convert {\n",
              "      background-color: #E8F0FE;\n",
              "      border: none;\n",
              "      border-radius: 50%;\n",
              "      cursor: pointer;\n",
              "      display: none;\n",
              "      fill: #1967D2;\n",
              "      height: 32px;\n",
              "      padding: 0 0 0 0;\n",
              "      width: 32px;\n",
              "    }\n",
              "\n",
              "    .colab-df-convert:hover {\n",
              "      background-color: #E2EBFA;\n",
              "      box-shadow: 0px 1px 2px rgba(60, 64, 67, 0.3), 0px 1px 3px 1px rgba(60, 64, 67, 0.15);\n",
              "      fill: #174EA6;\n",
              "    }\n",
              "\n",
              "    [theme=dark] .colab-df-convert {\n",
              "      background-color: #3B4455;\n",
              "      fill: #D2E3FC;\n",
              "    }\n",
              "\n",
              "    [theme=dark] .colab-df-convert:hover {\n",
              "      background-color: #434B5C;\n",
              "      box-shadow: 0px 1px 3px 1px rgba(0, 0, 0, 0.15);\n",
              "      filter: drop-shadow(0px 1px 2px rgba(0, 0, 0, 0.3));\n",
              "      fill: #FFFFFF;\n",
              "    }\n",
              "  </style>\n",
              "\n",
              "      <script>\n",
              "        const buttonEl =\n",
              "          document.querySelector('#df-6f338508-623d-4f8c-9e81-3e5d46272695 button.colab-df-convert');\n",
              "        buttonEl.style.display =\n",
              "          google.colab.kernel.accessAllowed ? 'block' : 'none';\n",
              "\n",
              "        async function convertToInteractive(key) {\n",
              "          const element = document.querySelector('#df-6f338508-623d-4f8c-9e81-3e5d46272695');\n",
              "          const dataTable =\n",
              "            await google.colab.kernel.invokeFunction('convertToInteractive',\n",
              "                                                     [key], {});\n",
              "          if (!dataTable) return;\n",
              "\n",
              "          const docLinkHtml = 'Like what you see? Visit the ' +\n",
              "            '<a target=\"_blank\" href=https://colab.research.google.com/notebooks/data_table.ipynb>data table notebook</a>'\n",
              "            + ' to learn more about interactive tables.';\n",
              "          element.innerHTML = '';\n",
              "          dataTable['output_type'] = 'display_data';\n",
              "          await google.colab.output.renderOutput(dataTable, element);\n",
              "          const docLink = document.createElement('div');\n",
              "          docLink.innerHTML = docLinkHtml;\n",
              "          element.appendChild(docLink);\n",
              "        }\n",
              "      </script>\n",
              "    </div>\n",
              "  </div>\n",
              "  "
            ]
          },
          "metadata": {},
          "execution_count": 244
        }
      ]
    },
    {
      "cell_type": "markdown",
      "source": [
        " Quando calculamos a **mediana** de idades, podemos observa que o resultado é semelhante a média, sendo as mulheres (41 anos) com mais idade nos acidentes fatais no estado de São Paulo."
      ],
      "metadata": {
        "id": "wyuPHUrLKVRU"
      }
    },
    {
      "cell_type": "markdown",
      "source": [
        "#MODA"
      ],
      "metadata": {
        "id": "nnWh2Eiqbn1z"
      }
    },
    {
      "cell_type": "code",
      "source": [
        "data = pd.Series (df['Idade da vitima'])\n",
        "moda = data.mode()\n",
        "moda"
      ],
      "metadata": {
        "colab": {
          "base_uri": "https://localhost:8080/"
        },
        "id": "V-GD5w_ubvbH",
        "outputId": "5d485f44-760a-49f5-87e8-002974d11692"
      },
      "execution_count": null,
      "outputs": [
        {
          "output_type": "execute_result",
          "data": {
            "text/plain": [
              "0    21\n",
              "Name: Idade da vitima, dtype: int64"
            ]
          },
          "metadata": {},
          "execution_count": 250
        }
      ]
    },
    {
      "cell_type": "markdown",
      "source": [
        "Já quando nos atentamos a *moda* podemos observar que a idade com maior ocorrência de acidentes fatais nas estradas está na casa dos *21 anos*, considerada por muitos como uma idade de risco."
      ],
      "metadata": {
        "id": "Ea-DxEfxKM60"
      }
    },
    {
      "cell_type": "markdown",
      "source": [
        "#DESVIO PADRAO"
      ],
      "metadata": {
        "id": "yvfGdnQxeVuL"
      }
    },
    {
      "cell_type": "code",
      "source": [
        "desvio_padrao =np.std(data)\n",
        "desvio_padrao"
      ],
      "metadata": {
        "colab": {
          "base_uri": "https://localhost:8080/"
        },
        "id": "rNFmm0ZbeFJV",
        "outputId": "f1cf5802-45c1-43d8-9714-d6aac5154727"
      },
      "execution_count": null,
      "outputs": [
        {
          "output_type": "execute_result",
          "data": {
            "text/plain": [
              "18.520739262396788"
            ]
          },
          "metadata": {},
          "execution_count": 249
        }
      ]
    },
    {
      "cell_type": "markdown",
      "source": [
        "Podemos observar que o desvio padrão dos dados é de *18.52 anos*.\n",
        "\n",
        "**Esta medida representa a dispersão dos dados em relação à *média*.**"
      ],
      "metadata": {
        "id": "x4uamEa0KQL6"
      }
    },
    {
      "cell_type": "markdown",
      "source": [
        "#Ocorrências agrupadas por Tipo de Veiculo\n",
        "\n"
      ],
      "metadata": {
        "id": "T4lpR9d5sdgT"
      }
    },
    {
      "cell_type": "code",
      "source": [
        "quantidade_tipos_veiculos = df['Tipo do veiculo da vitima'].value_counts()"
      ],
      "metadata": {
        "id": "9sgigrbfGl2h"
      },
      "execution_count": null,
      "outputs": []
    },
    {
      "cell_type": "code",
      "source": [
        "quantidade_tipos_veiculos"
      ],
      "metadata": {
        "colab": {
          "base_uri": "https://localhost:8080/"
        },
        "id": "6aFJYCKqHhtC",
        "outputId": "857eba68-9322-45cc-8652-823e9377a878"
      },
      "execution_count": null,
      "outputs": [
        {
          "output_type": "execute_result",
          "data": {
            "text/plain": [
              "MOTOCICLETA       15523\n",
              "AUTOMOVEL         10827\n",
              "PEDESTRE           9865\n",
              "BICICLETA          2807\n",
              "NAO DISPONIVEL     1789\n",
              "CAMINHAO           1444\n",
              "ONIBUS              353\n",
              "OUTROS              223\n",
              "Name: Tipo do veiculo da vitima, dtype: int64"
            ]
          },
          "metadata": {},
          "execution_count": 190
        }
      ]
    },
    {
      "cell_type": "code",
      "source": [
        "quantidade_tipos_veiculos.index"
      ],
      "metadata": {
        "colab": {
          "base_uri": "https://localhost:8080/"
        },
        "id": "IxVaEt3sH2zG",
        "outputId": "e715e7ad-fb71-43fe-9ee9-200402d2079b"
      },
      "execution_count": null,
      "outputs": [
        {
          "output_type": "execute_result",
          "data": {
            "text/plain": [
              "Index(['MOTOCICLETA', 'AUTOMOVEL', 'PEDESTRE', 'BICICLETA', 'NAO DISPONIVEL',\n",
              "       'CAMINHAO', 'ONIBUS', 'OUTROS'],\n",
              "      dtype='object')"
            ]
          },
          "metadata": {},
          "execution_count": 191
        }
      ]
    },
    {
      "cell_type": "code",
      "source": [
        "quantidade_tipos_veiculos.values"
      ],
      "metadata": {
        "colab": {
          "base_uri": "https://localhost:8080/"
        },
        "id": "lF-dypSfH79b",
        "outputId": "1915c327-7d4a-45bd-acc2-c1b26197e0c0"
      },
      "execution_count": null,
      "outputs": [
        {
          "output_type": "execute_result",
          "data": {
            "text/plain": [
              "array([15523, 10827,  9865,  2807,  1789,  1444,   353,   223])"
            ]
          },
          "metadata": {},
          "execution_count": 192
        }
      ]
    },
    {
      "cell_type": "code",
      "source": [
        "veiculos =['MOTOCICLETA', 'AUTOMOVEL', 'PEDESTRE', 'BICICLETA', 'NAO DISPONIVEL', 'CAMINHAO', 'ONIBUS', 'OUTROS']\n",
        "quantidade = [15523, 10827,  9865,  2807,  1789,  1444,   353,   223]\n",
        "cores_automoveis = ['green','orange','blue','purple','gray','pink','yellow','black']"
      ],
      "metadata": {
        "id": "gg8p_jFA_RX_"
      },
      "execution_count": 48,
      "outputs": []
    },
    {
      "cell_type": "code",
      "source": [
        "plt.style.use(\"ggplot\")\n",
        "grafico_automoveis = plt.barh(veiculos,quantidade, align ='center', color = cores_automoveis)\n",
        "plt.title('Ocorrências agrupadas por Tipo de Veículo')\n",
        "plt.show(grafico_automoveis)"
      ],
      "metadata": {
        "colab": {
          "base_uri": "https://localhost:8080/",
          "height": 454
        },
        "id": "d4H9d0hM_aLZ",
        "outputId": "8f7edf49-08a3-4a1d-dbbe-a9df4cc4d598"
      },
      "execution_count": 136,
      "outputs": [
        {
          "output_type": "display_data",
          "data": {
            "text/plain": [
              "<Figure size 640x480 with 1 Axes>"
            ],
            "image/png": "[encoded data removed]"
          },
          "metadata": {}
        }
      ]
    },
    {
      "cell_type": "markdown",
      "source": [
        "Esses dados fornecem insights valiosos para entender a distribuição dos acidentes fatais por tipo de veículo envolvido.\n",
        "\n",
        "Observamos que os acidentes fatais envolvendo motocicletas têm a maior frequência, representando o tipo de veículo com o maior número de ocorrências fatais. Isso sugere que os acidentes de motocicleta, sendo 15523, uma preocupação significativa em termos de segurança no trânsito. É necessário um foco especial em estratégias de prevenção voltadas para os usuários de motocicletas, como campanhas de conscientização, treinamento adequado e fiscalização.\n",
        "\n",
        "Os acidentes fatais envolvendo automóveis (10827) e pedestres (9865) também possuem números expressivos. Esses dados destacam a importância de medidas de segurança para motoristas e a necessidade de melhorias na infraestrutura urbana para proteger os pedestres.\n",
        "\n",
        "Já os acidentes fatais envolvendo bicicletas, caminhões, ônibus e outros veículos têm uma incidência menor, mas ainda assim não devem ser negligenciados."
      ],
      "metadata": {
        "id": "NuAOn7-XLuDf"
      }
    },
    {
      "cell_type": "code",
      "source": [
        "plt.style.use(\"ggplot\")\n",
        "pizza_veiculos = plt.pie(quantidade, labels=veiculos, colors = cores_automoveis, autopct = '%1.1f%%')\n",
        "plt.title('Ocorrências agrupadas por Tipo de Veículo')\n",
        "plt.axis('equal')\n",
        "plt.show(pizza_veiculos)\n"
      ],
      "metadata": {
        "colab": {
          "base_uri": "https://localhost:8080/",
          "height": 436
        },
        "id": "z22JlvVj34FB",
        "outputId": "d30062c3-93b0-48b5-e209-7426c5718d8d"
      },
      "execution_count": 165,
      "outputs": [
        {
          "output_type": "display_data",
          "data": {
            "text/plain": [
              "<Figure size 640x480 with 1 Axes>"
            ],
            "image/png": "[encoded data removed]"
          },
          "metadata": {}
        }
      ]
    },
    {
      "cell_type": "markdown",
      "source": [
        "**Distribuição Percentual dos Veículos Envolvidos:**\n",
        "\n",
        "**Motocicleta:** Representando 36,2% das ocorrências, as motocicletas são responsáveis pela maioria dos acidentes fatais.\n",
        "\n",
        "**Automóvel:** Com 25,3% das ocorrências, os automóveis também têm uma parcela significativa nos acidentes fatais.\n",
        "\n",
        "**Pedestre:** Correspondendo a 23% das ocorrências, os pedestres são o terceiro grupo mais afetado.\n",
        "\n",
        "**Bicicleta:** Com 6,55% das ocorrências, as bicicletas também contribuem para os acidentes fatais.\n",
        "\n",
        "**Não disponível:** Com 4,18% das ocorrências sem especificação do tipo de veículo, a falta de informação dificulta a análise precisa.\n",
        "\n",
        "**Caminhão:** Representando 3,37% das ocorrências, os acidentes envolvendo caminhões são menos frequentes.\n",
        "\n",
        "**Ônibus:** Com 0,824% das ocorrências, os ônibus têm uma porcentagem relativamente baixa de envolvimento em acidentes fatais.\n",
        "\n",
        "**Outros:** Correspondendo a 0,521% das ocorrências, outros tipos de veículos apresentam uma participação mínima."
      ],
      "metadata": {
        "id": "7hZpdKssKWjl"
      }
    },
    {
      "cell_type": "markdown",
      "source": [
        "#Ocorrências agrupadas por ano\n"
      ],
      "metadata": {
        "id": "Xel8sxWhNs8p"
      }
    },
    {
      "cell_type": "code",
      "source": [
        "quantidade_anos = df['Ano do BO (RDO)'].value_counts()"
      ],
      "metadata": {
        "id": "Epuh9WXSNwx6"
      },
      "execution_count": 93,
      "outputs": []
    },
    {
      "cell_type": "code",
      "source": [
        "quantidade_anos"
      ],
      "metadata": {
        "colab": {
          "base_uri": "https://localhost:8080/"
        },
        "id": "H0-EUiUGN4mA",
        "outputId": "fc03e1c8-e720-4a8a-87dc-b6e015fa599a"
      },
      "execution_count": 94,
      "outputs": [
        {
          "output_type": "execute_result",
          "data": {
            "text/plain": [
              "2015    6091\n",
              "2016    5674\n",
              "2017    5410\n",
              "2022    5296\n",
              "2019    5205\n",
              "2018    5179\n",
              "2020    4678\n",
              "2021    4554\n",
              "2023     704\n",
              "2014      26\n",
              "2013       8\n",
              "2012       4\n",
              "2011       1\n",
              "2007       1\n",
              "Name: Ano do BO (RDO), dtype: int64"
            ]
          },
          "metadata": {},
          "execution_count": 94
        }
      ]
    },
    {
      "cell_type": "code",
      "source": [
        "quantidade_anos.index"
      ],
      "metadata": {
        "colab": {
          "base_uri": "https://localhost:8080/"
        },
        "id": "JjAGqtJIOAGO",
        "outputId": "63d9a080-3170-4ddc-a2b8-6851969b77df"
      },
      "execution_count": 95,
      "outputs": [
        {
          "output_type": "execute_result",
          "data": {
            "text/plain": [
              "Int64Index([2015, 2016, 2017, 2022, 2019, 2018, 2020, 2021, 2023, 2014, 2013,\n",
              "            2012, 2011, 2007],\n",
              "           dtype='int64')"
            ]
          },
          "metadata": {},
          "execution_count": 95
        }
      ]
    },
    {
      "cell_type": "code",
      "source": [
        "quantidade_anos.values"
      ],
      "metadata": {
        "colab": {
          "base_uri": "https://localhost:8080/"
        },
        "id": "u0LK1NM2OCH8",
        "outputId": "85d78189-86a1-4543-f3b4-ad3e04770da8"
      },
      "execution_count": 96,
      "outputs": [
        {
          "output_type": "execute_result",
          "data": {
            "text/plain": [
              "array([6091, 5674, 5410, 5296, 5205, 5179, 4678, 4554,  704,   26,    8,\n",
              "          4,    1,    1])"
            ]
          },
          "metadata": {},
          "execution_count": 96
        }
      ]
    },
    {
      "cell_type": "code",
      "source": [
        "anos =['2007', '2011', '2012', '2013',  '2014', '2015', '2016', '2017', '2018', '2019', '2020','2021' , '2022' , '2023' ]\n",
        "numero = [ 1, 1, 4, 8, 26, 6091,  5674, 5410, 5179, 5205 ,4678 , 4554,  5296, 704]"
      ],
      "metadata": {
        "id": "ZCKR1YguRStF"
      },
      "execution_count": 145,
      "outputs": []
    },
    {
      "cell_type": "code",
      "source": [
        "plt.style.use(\"ggplot\")\n",
        "grafico_anos = plt.bar(anos,numero, align ='center')\n",
        "plt.title('Ocorrências agrupadas por Tipo de Veículo')\n",
        "plt.xticks(rotation=45)\n",
        "plt.show(grafico_anos)"
      ],
      "metadata": {
        "colab": {
          "base_uri": "https://localhost:8080/",
          "height": 475
        },
        "id": "lsNtgWk6BvDI",
        "outputId": "3dacce11-6237-4f01-f471-112a3b510c82"
      },
      "execution_count": 149,
      "outputs": [
        {
          "output_type": "display_data",
          "data": {
            "text/plain": [
              "<Figure size 640x480 with 1 Axes>"
            ],
            "image/png": "[encoded data removed]"
          },
          "metadata": {}
        }
      ]
    },
    {
      "cell_type": "markdown",
      "source": [
        "O ano com o maior número de ocorrências registradas é 2015, com 6.091 acidentes fatais.\n",
        "\n",
        "Os anos subsequentes, 2016 e 2017, também apresentam uma quantidade significativa de ocorrências, com 5.674 e 5.410 acidentes fatais, respectivamente.\n",
        "\n",
        "Os anos mais recentes, 2022 e 2019, ainda registram uma quantidade considerável de acidentes fatais, com 5.296 e 5.205 ocorrências, respectivamente.\n",
        "\n",
        "Por outro lado, os anos anteriores a 2015 apresentam números muito baixos de acidentes fatais, indicando uma possível ausência de monitoramento e registro dos acidentes fatais.\n",
        "\n",
        "**2023 apresentam poucos acidentes, pois os dados analisados, estão referentes apenas ate o mês de Fevereiro**\n",
        "\n",
        "Essa análise agrupada por ano permite observar as tendências de ocorrências ao longo do tempo.\n"
      ],
      "metadata": {
        "id": "rBWCzwHMKZYN"
      }
    },
    {
      "cell_type": "code",
      "source": [
        "plt.style.use(\"ggplot\")\n",
        "dispersao_anos = plt.scatter(anos,numero)\n",
        "plt.title('Ocorrências agrupadas por Ano')\n",
        "plt.xticks(rotation=45)\n",
        "plt.show (dispersao_anos)"
      ],
      "metadata": {
        "colab": {
          "base_uri": "https://localhost:8080/",
          "height": 475
        },
        "id": "USxx1ZbRYH3e",
        "outputId": "ff33007d-eacc-4fa1-dd46-94703ab71782"
      },
      "execution_count": 167,
      "outputs": [
        {
          "output_type": "display_data",
          "data": {
            "text/plain": [
              "<Figure size 640x480 with 1 Axes>"
            ],
            "image/png": "[encoded data removed]"
          },
          "metadata": {}
        }
      ]
    },
    {
      "cell_type": "markdown",
      "source": [
        "\n"
      ],
      "metadata": {
        "id": "wsf3qqYZY8D-"
      }
    }
  ]
}